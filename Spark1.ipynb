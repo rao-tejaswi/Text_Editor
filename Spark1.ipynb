{
  "nbformat": 4,
  "nbformat_minor": 0,
  "metadata": {
    "colab": {
      "provenance": [],
      "authorship_tag": "ABX9TyNo31Sh0gg3OmbXVGyXyLo6",
      "include_colab_link": true
    },
    "kernelspec": {
      "name": "python3",
      "display_name": "Python 3"
    },
    "language_info": {
      "name": "python"
    }
  },
  "cells": [
    {
      "cell_type": "markdown",
      "metadata": {
        "id": "view-in-github",
        "colab_type": "text"
      },
      "source": [
        "<a href=\"https://colab.research.google.com/github/rao-tejaswi/Text_Editor/blob/main/Spark1.ipynb\" target=\"_parent\"><img src=\"https://colab.research.google.com/assets/colab-badge.svg\" alt=\"Open In Colab\"/></a>"
      ]
    },
    {
      "cell_type": "code",
      "execution_count": 1,
      "metadata": {
        "colab": {
          "base_uri": "https://localhost:8080/"
        },
        "id": "bn-xXhtjzctO",
        "outputId": "9367458a-a838-498b-c7e8-982962fa056c"
      },
      "outputs": [
        {
          "output_type": "stream",
          "name": "stdout",
          "text": [
            "Requirement already satisfied: pyspark in /usr/local/lib/python3.10/dist-packages (3.5.3)\n",
            "Requirement already satisfied: py4j==0.10.9.7 in /usr/local/lib/python3.10/dist-packages (from pyspark) (0.10.9.7)\n"
          ]
        }
      ],
      "source": [
        "!pip install pyspark"
      ]
    },
    {
      "cell_type": "code",
      "source": [
        "from pyspark import SparkContext, SparkConf"
      ],
      "metadata": {
        "id": "7oCFq-Ruz3qV"
      },
      "execution_count": 2,
      "outputs": []
    },
    {
      "cell_type": "code",
      "source": [
        "#initializing spark\n",
        "conf = SparkConf().setAppName(\"testApp1\").setMaster(\"local[*]\")\n",
        "sc = SparkContext(conf=conf)"
      ],
      "metadata": {
        "id": "4bRkRHP80GM5"
      },
      "execution_count": 3,
      "outputs": []
    },
    {
      "cell_type": "code",
      "source": [
        "print(sc)"
      ],
      "metadata": {
        "colab": {
          "base_uri": "https://localhost:8080/"
        },
        "id": "Y1dD-Uk1CMJV",
        "outputId": "71ac94bd-a174-4455-e530-3d0612fa8085"
      },
      "execution_count": 4,
      "outputs": [
        {
          "output_type": "stream",
          "name": "stdout",
          "text": [
            "<SparkContext master=local[*] appName=testApp1>\n"
          ]
        }
      ]
    },
    {
      "cell_type": "markdown",
      "source": [],
      "metadata": {
        "id": "pmO0miDNB7zs"
      }
    },
    {
      "cell_type": "code",
      "source": [
        "sc.defaultParallelism\n",
        "#tells the number of cores we have"
      ],
      "metadata": {
        "colab": {
          "base_uri": "https://localhost:8080/"
        },
        "id": "XGn2-fZuCjTH",
        "outputId": "d8e0f8bb-23ce-42bf-cee6-a10015026221"
      },
      "execution_count": 6,
      "outputs": [
        {
          "output_type": "execute_result",
          "data": {
            "text/plain": [
              "2"
            ]
          },
          "metadata": {},
          "execution_count": 6
        }
      ]
    },
    {
      "cell_type": "code",
      "source": [
        "# Generate Random Data\n",
        "import random\n",
        "randomList = random.sample(range(0,40),10)\n",
        "print(randomList)"
      ],
      "metadata": {
        "colab": {
          "base_uri": "https://localhost:8080/"
        },
        "id": "E3bZZouBClZ5",
        "outputId": "71f36c99-4cc3-4c9e-e66c-0f167e128c2e"
      },
      "execution_count": 8,
      "outputs": [
        {
          "output_type": "stream",
          "name": "stdout",
          "text": [
            "[6, 19, 28, 9, 27, 5, 33, 8, 21, 13]\n"
          ]
        }
      ]
    },
    {
      "cell_type": "code",
      "source": [
        "#Create RDD (transformation)\n",
        "# 4 is the number of partitions that we give\n",
        "rdd1 = sc.parallelize(randomList,4)\n",
        "#print RDD (action)\n",
        "rdd1.collect()"
      ],
      "metadata": {
        "colab": {
          "base_uri": "https://localhost:8080/"
        },
        "id": "QVhfaVNILItn",
        "outputId": "b0f99a23-187a-4ceb-9db4-50a07081f6d2"
      },
      "execution_count": 11,
      "outputs": [
        {
          "output_type": "execute_result",
          "data": {
            "text/plain": [
              "[6, 19, 28, 9, 27, 5, 33, 8, 21, 13]"
            ]
          },
          "metadata": {},
          "execution_count": 11
        }
      ]
    },
    {
      "cell_type": "code",
      "source": [
        "#Data distribution in partition\n",
        "print(rdd1.getNumPartitions())\n",
        "# glom shows you how the data is divided into partitions\n",
        "print(rdd1.glom().collect())\n",
        "# take(n) prints the first n partitions\n",
        "print(rdd1.glom().take(2))"
      ],
      "metadata": {
        "colab": {
          "base_uri": "https://localhost:8080/"
        },
        "id": "M0lIah-FLVtR",
        "outputId": "ae6ed732-9a83-410f-e7ed-8fb4e6a7ee3d"
      },
      "execution_count": 15,
      "outputs": [
        {
          "output_type": "stream",
          "name": "stdout",
          "text": [
            "4\n",
            "[[6, 19], [28, 9], [27, 5], [33, 8, 21, 13]]\n",
            "[[6, 19], [28, 9]]\n"
          ]
        }
      ]
    },
    {
      "cell_type": "code",
      "source": [
        "#print last partition\n",
        "rdd1.glom().collect()[3]"
      ],
      "metadata": {
        "colab": {
          "base_uri": "https://localhost:8080/"
        },
        "id": "82zxoD8UMULs",
        "outputId": "b062cc99-4e9b-4346-90f1-d7010225c23c"
      },
      "execution_count": 16,
      "outputs": [
        {
          "output_type": "execute_result",
          "data": {
            "text/plain": [
              "[33, 8, 21, 13]"
            ]
          },
          "metadata": {},
          "execution_count": 16
        }
      ]
    },
    {
      "cell_type": "code",
      "source": [
        "#count()\n",
        "print(rdd1.count())\n",
        "#first()\n",
        "print(rdd1.first())\n",
        "#top()\n",
        "print(rdd1.top(2))\n",
        "#distinct() removes duplicates and returns original values\n",
        "rdd1.distinct()\n",
        "#distinct() is a part of user transformation so it's not readable, hence we use\n",
        "# an action like collect() or take()\n",
        "print(rdd1.distinct().collect())"
      ],
      "metadata": {
        "colab": {
          "base_uri": "https://localhost:8080/"
        },
        "id": "mpoUMS6hL6de",
        "outputId": "d1f7cebc-aad1-4bbf-8615-b8e0144ef976"
      },
      "execution_count": 18,
      "outputs": [
        {
          "output_type": "stream",
          "name": "stdout",
          "text": [
            "10\n",
            "6\n",
            "[33, 28]\n",
            "[28, 8, 9, 5, 33, 21, 13, 6, 19, 27]\n"
          ]
        }
      ]
    },
    {
      "cell_type": "code",
      "source": [
        "#map() returns a new rdd after transformation\n",
        "\n",
        "#first define a func that we use to make changes in rdd and call it in map\n",
        "def myFunc(item):\n",
        "  return (item*2)+1\n",
        "\n",
        "rdd_map = rdd1.map(lambda i: (i*2)+1)\n",
        "rdd_map.collect()"
      ],
      "metadata": {
        "colab": {
          "base_uri": "https://localhost:8080/"
        },
        "id": "0eJjvFFLOmkj",
        "outputId": "8e1075d1-b67b-4f78-876a-3d39e44bbf22"
      },
      "execution_count": 23,
      "outputs": [
        {
          "output_type": "execute_result",
          "data": {
            "text/plain": [
              "[13, 39, 57, 19, 55, 11, 67, 17, 43, 27]"
            ]
          },
          "metadata": {},
          "execution_count": 23
        }
      ]
    },
    {
      "cell_type": "code",
      "source": [
        "#it has same number of partitions post transformation\n",
        "rdd_map.glom().collect()"
      ],
      "metadata": {
        "colab": {
          "base_uri": "https://localhost:8080/"
        },
        "id": "6Rwr5dkBREym",
        "outputId": "66f6fddf-5b6d-4b27-d138-6db1925cf316"
      },
      "execution_count": 24,
      "outputs": [
        {
          "output_type": "execute_result",
          "data": {
            "text/plain": [
              "[[13, 39], [57, 19], [55, 11], [67, 17, 43, 27]]"
            ]
          },
          "metadata": {},
          "execution_count": 24
        }
      ]
    },
    {
      "cell_type": "code",
      "source": [
        "#filter() returns a new dataset for which the func returns true\n",
        "rdd_filter = rdd1.filter(lambda x: x%3==0)\n",
        "rdd_filter.collect()\n",
        "\n",
        "rdd_filter1 = rdd_map.filter(lambda x: x%3==0)\n",
        "rdd_filter1.collect()"
      ],
      "metadata": {
        "colab": {
          "base_uri": "https://localhost:8080/"
        },
        "id": "rR1V6OIWRcCG",
        "outputId": "e388ed11-28a4-4a40-fb41-73c1e348919d"
      },
      "execution_count": 26,
      "outputs": [
        {
          "output_type": "execute_result",
          "data": {
            "text/plain": [
              "[39, 57, 27]"
            ]
          },
          "metadata": {},
          "execution_count": 26
        }
      ]
    },
    {
      "cell_type": "code",
      "source": [
        "rdd_filter1.glom().collect()"
      ],
      "metadata": {
        "colab": {
          "base_uri": "https://localhost:8080/"
        },
        "id": "asevg8ELSTpZ",
        "outputId": "2fa19b4e-9496-4dd0-ccc2-2b5b8ed3e7b5"
      },
      "execution_count": 27,
      "outputs": [
        {
          "output_type": "execute_result",
          "data": {
            "text/plain": [
              "[[39], [57], [], [27]]"
            ]
          },
          "metadata": {},
          "execution_count": 27
        }
      ]
    },
    {
      "cell_type": "code",
      "source": [
        "#flatMap() combines all the elements into a list and then sends it\n",
        "rdd_flatmap = rdd1.flatMap(lambda x: [x+2, x+5])\n",
        "rdd_flatmap.glom().collect()"
      ],
      "metadata": {
        "colab": {
          "base_uri": "https://localhost:8080/"
        },
        "id": "wKbnTBvuTAeh",
        "outputId": "20b94432-b9b3-4f4f-f024-5b963913e00c"
      },
      "execution_count": 30,
      "outputs": [
        {
          "output_type": "execute_result",
          "data": {
            "text/plain": [
              "[[8, 11, 21, 24],\n",
              " [30, 33, 11, 14],\n",
              " [29, 32, 7, 10],\n",
              " [35, 38, 10, 13, 23, 26, 15, 18]]"
            ]
          },
          "metadata": {},
          "execution_count": 30
        }
      ]
    },
    {
      "cell_type": "code",
      "source": [
        "#reduce(func) aggregates the elements of dataset using a function func\n",
        "rdd_flatmap.reduce(lambda x,y: x+y)"
      ],
      "metadata": {
        "colab": {
          "base_uri": "https://localhost:8080/"
        },
        "id": "8NQQliSKUFSL",
        "outputId": "a5a443ed-9c6f-440b-a024-564652370053"
      },
      "execution_count": 32,
      "outputs": [
        {
          "output_type": "execute_result",
          "data": {
            "text/plain": [
              "408"
            ]
          },
          "metadata": {},
          "execution_count": 32
        }
      ]
    },
    {
      "cell_type": "code",
      "source": [
        "#Descriptive statistics\n",
        "print([rdd1.max(), rdd1.min(), rdd1.mean(), rdd1.stdev(), rdd1.sum()])"
      ],
      "metadata": {
        "colab": {
          "base_uri": "https://localhost:8080/"
        },
        "id": "smjVo3YJU_yY",
        "outputId": "89583cb9-0e96-4c5c-a132-c3e0e258946d"
      },
      "execution_count": 33,
      "outputs": [
        {
          "output_type": "stream",
          "name": "stdout",
          "text": [
            "[33, 5, 16.9, 9.606768447297979, 169]\n"
          ]
        }
      ]
    },
    {
      "cell_type": "code",
      "source": [
        "#mapPartitions()\n",
        "def myfunc(partition):\n",
        "  sum = 0\n",
        "  for i in partition:\n",
        "    sum = sum + i\n",
        "  yield sum\n",
        "\n",
        "rdd1.mapPartitions(myfunc).collect()"
      ],
      "metadata": {
        "colab": {
          "base_uri": "https://localhost:8080/"
        },
        "id": "v3QMjr2NVhZL",
        "outputId": "5181fd94-898f-497b-af89-880e8763e362"
      },
      "execution_count": 34,
      "outputs": [
        {
          "output_type": "execute_result",
          "data": {
            "text/plain": [
              "[25, 37, 32, 75]"
            ]
          },
          "metadata": {},
          "execution_count": 34
        }
      ]
    },
    {
      "cell_type": "code",
      "source": [],
      "metadata": {
        "id": "WLyP20LuW5zv"
      },
      "execution_count": null,
      "outputs": []
    }
  ]
}